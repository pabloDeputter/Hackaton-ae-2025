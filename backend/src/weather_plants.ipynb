{
 "cells": [
  {
   "metadata": {},
   "cell_type": "code",
   "outputs": [],
   "execution_count": null,
   "source": [
    "import pandas as pd\n",
    "from sklearn.preprocessing import LabelEncoder\n",
    "from sklearn.cluster import KMeans\n",
    "import seaborn as sns"
   ]
  },
  {
   "metadata": {},
   "cell_type": "code",
   "outputs": [],
   "execution_count": null,
   "source": [
    "# Load datasets\n",
    "\n",
    "plants_df = pd.read_csv('../data/dataset_edible_plants.csv')\n",
    "weather_df = pd.read_csv('../data/dataset_weather.csv')"
   ]
  },
  {
   "metadata": {},
   "cell_type": "code",
   "outputs": [],
   "execution_count": null,
   "source": "weather_df"
  },
  {
   "metadata": {},
   "cell_type": "code",
   "outputs": [],
   "execution_count": null,
   "source": "plants_df"
  },
  {
   "metadata": {},
   "cell_type": "code",
   "outputs": [],
   "execution_count": null,
   "source": "plants_df['Watering Needs'].unique()"
  },
  {
   "metadata": {},
   "cell_type": "code",
   "outputs": [],
   "execution_count": null,
   "source": [
    "# Convert columns to integer type\n",
    "plants_df['Time to Consumable (days)'] = plants_df['Time to Consumable (days)'].astype(int)\n",
    "plants_df['Weight when Full Grown (kg)'] = plants_df['Weight when Full Grown (kg)'].astype(int)\n",
    "plants_df['Kcal per 100g'] = plants_df['Kcal per 100g'].astype(int)\n",
    "plants_df['Proteins per 100g (g)'] = plants_df['Proteins per 100g (g)'].astype(int)\n",
    "plants_df['Watering Needs'] = plants_df['Watering Needs'].map({'Low': 0, 'Moderate': 1, 'High': 2})\n",
    "plants_df\n",
    "plants_df.to_csv('../data/dataset_edible_plants_processed.csv', index=False)"
   ]
  },
  {
   "metadata": {},
   "cell_type": "code",
   "outputs": [],
   "execution_count": null,
   "source": "plants_df"
  },
  {
   "metadata": {},
   "cell_type": "code",
   "outputs": [],
   "execution_count": null,
   "source": [
    "# Extract unique climate classifications\n",
    "climate_types = weather_df['LocationKoppenGeigerClassification'].unique()\n",
    "climate_types"
   ]
  },
  {
   "metadata": {},
   "cell_type": "code",
   "outputs": [],
   "execution_count": null,
   "source": [
    "climate_mapping = {\n",
    "    # Tropical climates\n",
    "    'Af': 'Tropical',     # Tropical rainforest\n",
    "    'Am': 'Tropical',     # Tropical monsoon\n",
    "    'Aw': 'Tropical',     # Tropical savanna\n",
    "    \n",
    "    # Arid climates\n",
    "    'BWh': 'Arid',        # Hot desert\n",
    "    'BWk': 'Arid',        # Cold desert \n",
    "    'BSh': 'Arid',        # Hot semi-arid\n",
    "    'BSk': 'Arid',        # Cold semi-arid\n",
    "    \n",
    "    # Mediterranean\n",
    "    'Csa': 'Mediterranean', # Mediterranean hot summer\n",
    "    'Csb': 'Mediterranean', # Mediterranean warm summer\n",
    "    'Csc': 'Mediterranean', # Mediterranean cold summer\n",
    "    \n",
    "    # Temperate\n",
    "    'Cfa': 'Temperate',   # Humid subtropical\n",
    "    'Cfb': 'Temperate',   # Oceanic\n",
    "    'Cfc': 'Temperate',   # Subpolar oceanic\n",
    "    'Dfa': 'Temperate',   # Humid continental hot summer\n",
    "    'Dfb': 'Temperate',   # Humid continental warm summer\n",
    "    'Dfc': 'Temperate',   # Subarctic (could be Polar in some cases)\n",
    "    'Dfd': 'Temperate',   # Subarctic very cold winter\n",
    "    \n",
    "    # Polar\n",
    "    'ET': 'Polar',        # Tundra\n",
    "    'EF': 'Polar'         # Ice cap\n",
    "}\n",
    "\n",
    "# Create new column with mapped climate names\n",
    "weather_df['ClimateType'] = weather_df['LocationKoppenGeigerClassification'].map(climate_mapping)\n",
    "\n",
    "# Display unique values to verify mapping\n",
    "print(weather_df[['Location', 'ClimateType']].drop_duplicates())"
   ]
  },
  {
   "metadata": {},
   "cell_type": "code",
   "outputs": [],
   "execution_count": null,
   "source": [
    "# find chestnut cafe location\n",
    "chestnut_cafe = weather_df[weather_df['Location'] == 'Chestnut Tree Café']\n",
    "chestnut_cafe"
   ]
  },
  {
   "metadata": {},
   "cell_type": "code",
   "outputs": [],
   "execution_count": null,
   "source": [
    "# Get unique locations and their climate types\n",
    "locations = weather_df[['Location', 'ClimateType']].drop_duplicates()\n",
    "# Convert to dictionary\n",
    "locations_dict = locations.set_index('Location').to_dict()['ClimateType']\n",
    "locations_dict"
   ]
  },
  {
   "metadata": {},
   "cell_type": "code",
   "outputs": [],
   "execution_count": null,
   "source": [
    "# Extract unique climate classifications\n",
    "climate_types = weather_df['LocationKoppenGeigerClassification'].unique()"
   ]
  },
  {
   "metadata": {},
   "cell_type": "code",
   "outputs": [],
   "execution_count": null,
   "source": [
    "climate_types = plants_df['Growth Climate'].unique()\n",
    "climate_types"
   ]
  },
  {
   "metadata": {},
   "cell_type": "code",
   "outputs": [],
   "execution_count": null,
   "source": [
    "# Create label encoders\n",
    "climate_encoder = LabelEncoder()\n",
    "plants_df['climate_code'] = climate_encoder.fit_transform(plants_df['Growth Climate'])"
   ]
  },
  {
   "metadata": {},
   "cell_type": "code",
   "outputs": [],
   "execution_count": null,
   "source": [
    "# Define a corrected compatibility function using only the available growth climates\n",
    "def calculate_compatibility(plant_climate, location_climate):\n",
    "    # Map Koppen climate classes to the available growth climates in plants_df\n",
    "    koppen_to_growth = {\n",
    "        # Tropical climates\n",
    "        'Af': 'Tropical',     # Tropical rainforest\n",
    "        'Am': 'Tropical',     # Tropical monsoon\n",
    "        'Aw': 'Tropical',     # Tropical savanna\n",
    "        \n",
    "        # Arid climates\n",
    "        'BWh': 'Arid',        # Hot desert\n",
    "        'BWk': 'Arid',        # Cold desert \n",
    "        'BSh': 'Arid',        # Hot semi-arid\n",
    "        'BSk': 'Arid',        # Cold semi-arid\n",
    "        \n",
    "        # Mediterranean\n",
    "        'Csa': 'Mediterranean', # Mediterranean hot summer\n",
    "        'Csb': 'Mediterranean', # Mediterranean warm summer\n",
    "        'Csc': 'Mediterranean', # Mediterranean cold summer\n",
    "        \n",
    "        # Temperate\n",
    "        'Cfa': 'Temperate',   # Humid subtropical\n",
    "        'Cfb': 'Temperate',   # Oceanic\n",
    "        'Cfc': 'Temperate',   # Subpolar oceanic\n",
    "        'Dfa': 'Temperate',   # Humid continental hot summer\n",
    "        'Dfb': 'Temperate',   # Humid continental warm summer\n",
    "        'Dfc': 'Temperate',   # Subarctic (could be Polar in some cases)\n",
    "        'Dfd': 'Temperate',   # Subarctic very cold winter\n",
    "        \n",
    "        # Polar\n",
    "        'ET': 'Polar',        # Tundra\n",
    "        'EF': 'Polar'         # Ice cap\n",
    "    }\n",
    "    location_growth_climate = location_climate\n",
    "    \n",
    "    # Define climate compatibility relationships using only available climate types\n",
    "    climate_compatibility = {\n",
    "        'Tropical': {'Tropical': 10, 'Mediterranean': 5, 'Temperate': 4, 'Polar': 0, 'Arid': 3},\n",
    "        'Mediterranean': {'Tropical': 5, 'Mediterranean': 10, 'Temperate': 7, 'Polar': 0, 'Arid': 6},\n",
    "        'Temperate': {'Tropical': 3, 'Mediterranean': 7, 'Temperate': 10, 'Polar': 2, 'Arid': 4},\n",
    "        'Polar': {'Tropical': 0, 'Mediterranean': 1, 'Temperate': 3, 'Polar': 10, 'Arid': 0},\n",
    "        'Arid': {'Tropical': 2, 'Mediterranean': 5, 'Temperate': 3, 'Polar': 0, 'Arid': 10}\n",
    "    }\n",
    "    \n",
    "    # Get base compatibility score\n",
    "    base_score = climate_compatibility.get(plant_climate, {}).get(location_growth_climate, 3)\n",
    "    \n",
    "    # Special case adjustments\n",
    "    if plant_climate == 'Mediterranean' and location_growth_climate == 'Arid':\n",
    "        # Many Mediterranean plants are drought-tolerant\n",
    "        base_score += 1\n",
    "    elif plant_climate == 'Tropical' and location_growth_climate == 'Polar':\n",
    "        # Tropical plants cannot survive in polar climates\n",
    "        base_score = 0\n",
    "        \n",
    "    return base_score\n",
    "        \n",
    "# Create compatibility matrix\n",
    "compatibility_matrix = {}\n",
    "for climate in weather_df['ClimateType'].unique():\n",
    "    compatibility_matrix[climate] = {}\n",
    "    for _, plant in plants_df.iterrows():\n",
    "        compatibility_matrix[climate][plant['Name']] = calculate_compatibility(\n",
    "            plant['Growth Climate'], climate)\n",
    "\n",
    "# Convert to DataFrame for easier use\n",
    "compatibility_df = pd.DataFrame(compatibility_matrix)\n",
    "\n",
    "# Convert to DataFrame for easier use\n",
    "compatibility_df = pd.DataFrame(compatibility_matrix)"
   ]
  },
  {
   "metadata": {},
   "cell_type": "code",
   "outputs": [],
   "execution_count": null,
   "source": "weather_df['ClimateType'].unique()"
  },
  {
   "metadata": {},
   "cell_type": "code",
   "outputs": [],
   "execution_count": null,
   "source": "len(plants_df['Name'].unique())"
  },
  {
   "metadata": {},
   "cell_type": "code",
   "outputs": [],
   "execution_count": null,
   "source": "plants_df.head()"
  },
  {
   "metadata": {},
   "cell_type": "code",
   "outputs": [],
   "execution_count": null,
   "source": [
    "# plot heatmap of compatibility matrix\n",
    "sns.heatmap(compatibility_df[:10], cmap='RdYlGn_r', center=5, annot=True)"
   ]
  },
  {
   "metadata": {},
   "cell_type": "code",
   "outputs": [],
   "execution_count": null,
   "source": "compatibility_df"
  },
  {
   "metadata": {},
   "cell_type": "code",
   "outputs": [],
   "execution_count": null,
   "source": "compatibility_df.to_csv('../data/plants_weather_compatibilities.csv', index=True)"
  },
  {
   "metadata": {},
   "cell_type": "code",
   "outputs": [],
   "execution_count": null,
   "source": "compatibility_matrix"
  },
  {
   "metadata": {},
   "cell_type": "code",
   "outputs": [],
   "execution_count": null,
   "source": ""
  }
 ],
 "metadata": {
  "kernelspec": {
   "display_name": ".venv",
   "language": "python",
   "name": "python3"
  },
  "language_info": {
   "codemirror_mode": {
    "name": "ipython",
    "version": 3
   },
   "file_extension": ".py",
   "mimetype": "text/x-python",
   "name": "python",
   "nbconvert_exporter": "python",
   "pygments_lexer": "ipython3",
   "version": "3.12.3"
  }
 },
 "nbformat": 4,
 "nbformat_minor": 2
}
